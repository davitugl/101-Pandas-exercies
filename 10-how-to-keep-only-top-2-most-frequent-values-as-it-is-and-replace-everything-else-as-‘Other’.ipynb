{
 "cells": [
  {
   "cell_type": "markdown",
   "id": "cfa29c88",
   "metadata": {},
   "source": [
    "# From ser, keep the top 2 most frequent items as it is and replace everything else as ‘Other’\n",
    "* np.random.RandomState(100)\n",
    "* ser = pd.Series(np.random.randint(1, 5, [12]))"
   ]
  },
  {
   "cell_type": "code",
   "execution_count": 1,
   "id": "0f520343",
   "metadata": {},
   "outputs": [],
   "source": [
    "import pandas as pd\n",
    "import numpy as np"
   ]
  },
  {
   "cell_type": "code",
   "execution_count": 23,
   "id": "eee5bf7a",
   "metadata": {},
   "outputs": [
    {
     "data": {
      "text/plain": [
       "0     4\n",
       "1     3\n",
       "2     1\n",
       "3     3\n",
       "4     3\n",
       "5     4\n",
       "6     2\n",
       "7     2\n",
       "8     2\n",
       "9     3\n",
       "10    2\n",
       "11    1\n",
       "dtype: int32"
      ]
     },
     "execution_count": 23,
     "metadata": {},
     "output_type": "execute_result"
    }
   ],
   "source": [
    "np.random.RandomState(100)\n",
    "ser = pd.Series(np.random.randint(1, 5, [12]))\n",
    "ser"
   ]
  },
  {
   "cell_type": "code",
   "execution_count": 30,
   "id": "9dd44c6b",
   "metadata": {},
   "outputs": [],
   "source": [
    "ser[~ser.isin(ser.value_counts().index[:2])] = \"Other\""
   ]
  },
  {
   "cell_type": "code",
   "execution_count": 31,
   "id": "fe7c9dbf",
   "metadata": {},
   "outputs": [
    {
     "data": {
      "text/plain": [
       "0     Other\n",
       "1         3\n",
       "2     Other\n",
       "3         3\n",
       "4         3\n",
       "5     Other\n",
       "6         2\n",
       "7         2\n",
       "8         2\n",
       "9         3\n",
       "10        2\n",
       "11    Other\n",
       "dtype: object"
      ]
     },
     "execution_count": 31,
     "metadata": {},
     "output_type": "execute_result"
    }
   ],
   "source": [
    "ser"
   ]
  }
 ],
 "metadata": {
  "kernelspec": {
   "display_name": "Python 3 (ipykernel)",
   "language": "python",
   "name": "python3"
  },
  "language_info": {
   "codemirror_mode": {
    "name": "ipython",
    "version": 3
   },
   "file_extension": ".py",
   "mimetype": "text/x-python",
   "name": "python",
   "nbconvert_exporter": "python",
   "pygments_lexer": "ipython3",
   "version": "3.11.5"
  }
 },
 "nbformat": 4,
 "nbformat_minor": 5
}
