{
 "cells": [
  {
   "cell_type": "markdown",
   "id": "653da136",
   "metadata": {},
   "source": [
    "# Bin the series ser into 10 equal deciles and replace the values with the bin name\n",
    "Input: ser = pd.Series(np.random.random(20))"
   ]
  },
  {
   "cell_type": "code",
   "execution_count": 10,
   "id": "67d9a331",
   "metadata": {},
   "outputs": [],
   "source": [
    "import pandas as pd\n",
    "import numpy as np"
   ]
  },
  {
   "cell_type": "code",
   "execution_count": 13,
   "id": "0eda9a6f",
   "metadata": {},
   "outputs": [
    {
     "data": {
      "text/plain": [
       "0     0.379099\n",
       "1     0.567098\n",
       "2     0.595593\n",
       "3     0.449859\n",
       "4     0.457020\n",
       "5     0.311651\n",
       "6     0.313337\n",
       "7     0.294859\n",
       "8     0.530772\n",
       "9     0.396222\n",
       "10    0.718750\n",
       "11    0.548092\n",
       "12    0.582075\n",
       "13    0.167651\n",
       "14    0.029277\n",
       "15    0.208742\n",
       "16    0.022575\n",
       "17    0.634674\n",
       "18    0.224442\n",
       "19    0.398310\n",
       "dtype: float64"
      ]
     },
     "execution_count": 13,
     "metadata": {},
     "output_type": "execute_result"
    }
   ],
   "source": [
    "np.random.seed(64)\n",
    "ser = pd.Series(np.random.random(20))\n",
    "ser"
   ]
  },
  {
   "cell_type": "code",
   "execution_count": 14,
   "id": "16a80815",
   "metadata": {},
   "outputs": [
    {
     "data": {
      "text/plain": [
       "0      5th\n",
       "1      8th\n",
       "2      9th\n",
       "3      6th\n",
       "4      7th\n",
       "5      4th\n",
       "6      4th\n",
       "7      3rd\n",
       "8      7th\n",
       "9      5th\n",
       "10    10th\n",
       "11     8th\n",
       "12     9th\n",
       "13     2nd\n",
       "14     1st\n",
       "15     2nd\n",
       "16     1st\n",
       "17    10th\n",
       "18     3rd\n",
       "19     6th\n",
       "dtype: category\n",
       "Categories (10, object): ['1st' < '2nd' < '3rd' < '4th' ... '7th' < '8th' < '9th' < '10th']"
      ]
     },
     "execution_count": 14,
     "metadata": {},
     "output_type": "execute_result"
    }
   ],
   "source": [
    "pd.qcut(ser, q=[0, .10, .20, .3, .4, .5, .6, .7, .8, .9, 1], \n",
    "        labels=['1st', '2nd', '3rd', '4th', '5th', '6th', '7th', '8th', '9th', '10th'])"
   ]
  }
 ],
 "metadata": {
  "kernelspec": {
   "display_name": "Python 3 (ipykernel)",
   "language": "python",
   "name": "python3"
  },
  "language_info": {
   "codemirror_mode": {
    "name": "ipython",
    "version": 3
   },
   "file_extension": ".py",
   "mimetype": "text/x-python",
   "name": "python",
   "nbconvert_exporter": "python",
   "pygments_lexer": "ipython3",
   "version": "3.11.5"
  }
 },
 "nbformat": 4,
 "nbformat_minor": 5
}
