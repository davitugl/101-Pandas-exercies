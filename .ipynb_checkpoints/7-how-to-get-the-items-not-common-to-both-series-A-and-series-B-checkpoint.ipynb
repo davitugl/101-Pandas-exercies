{
 "cells": [
  {
   "cell_type": "markdown",
   "id": "441defd1",
   "metadata": {},
   "source": [
    "# Get all items of ser1 and ser2 not common to both.\n",
    "Input: \n",
    "* ser1 = pd.Series([1, 2, 3, 4, 5])\n",
    "* ser2 = pd.Series([4, 5, 6, 7, 8])  "
   ]
  },
  {
   "cell_type": "code",
   "execution_count": 8,
   "id": "b0e31dd4",
   "metadata": {},
   "outputs": [],
   "source": [
    "import pandas as pd\n",
    "import numpy as np\n",
    "\n",
    "ser1 = pd.Series([1, 2, 3, 4, 5])\n",
    "ser2 = pd.Series([4, 5, 6, 7, 8])"
   ]
  },
  {
   "cell_type": "code",
   "execution_count": 7,
   "id": "716ebcf0",
   "metadata": {},
   "outputs": [
    {
     "data": {
      "text/plain": [
       "0    1\n",
       "1    2\n",
       "2    3\n",
       "2    6\n",
       "3    7\n",
       "4    8\n",
       "dtype: int64"
      ]
     },
     "execution_count": 7,
     "metadata": {},
     "output_type": "execute_result"
    }
   ],
   "source": [
    "# Method 1\n",
    "new_ser1 = ser1[~ser1.isin(ser2)]\n",
    "new_ser2 = ser2[~ser2.isin(ser1)]\n",
    "result = pd.concat([new_ser1, new_ser2])\n",
    "result"
   ]
  },
  {
   "cell_type": "code",
   "execution_count": 23,
   "id": "c0050220",
   "metadata": {},
   "outputs": [
    {
     "data": {
      "text/plain": [
       "0    1\n",
       "1    2\n",
       "2    3\n",
       "5    6\n",
       "6    7\n",
       "7    8\n",
       "dtype: int64"
      ]
     },
     "execution_count": 23,
     "metadata": {},
     "output_type": "execute_result"
    }
   ],
   "source": [
    "# Method 2\n",
    "ser_union = pd.Series(np.union1d(ser1, ser2))\n",
    "\n",
    "ser_intersect = pd.Series(np.intersect1d(ser1, ser2))\n",
    "\n",
    "result = ser_union[~ser_union.isin(ser_intersect)]\n",
    "result"
   ]
  }
 ],
 "metadata": {
  "kernelspec": {
   "display_name": "Python 3 (ipykernel)",
   "language": "python",
   "name": "python3"
  },
  "language_info": {
   "codemirror_mode": {
    "name": "ipython",
    "version": 3
   },
   "file_extension": ".py",
   "mimetype": "text/x-python",
   "name": "python",
   "nbconvert_exporter": "python",
   "pygments_lexer": "ipython3",
   "version": "3.11.5"
  }
 },
 "nbformat": 4,
 "nbformat_minor": 5
}
