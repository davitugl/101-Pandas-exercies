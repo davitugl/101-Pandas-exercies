{
 "cells": [
  {
   "cell_type": "markdown",
   "id": "5f552745",
   "metadata": {},
   "source": [
    "# Create a pandas series from each of the items below: a list, numpy and a dictionary\n",
    "Input:\n",
    "* mylist = list('abcedfghijklmnopqrstuvwxyz')\n",
    "* myarr = np.arange(26)\n",
    "* mydict = dict(zip(mylist, myarr))"
   ]
  },
  {
   "cell_type": "code",
   "execution_count": 11,
   "id": "eddd77bb",
   "metadata": {},
   "outputs": [],
   "source": [
    "import pandas as pd\n",
    "import numpy as np\n",
    "\n",
    "mylist = list('abcedfghijklmnopqrstuvwxyz')\n",
    "ser_from_list = pd.Series(mylist)\n",
    "\n",
    "myarr = np.arange(26)\n",
    "ser_from_arr = pd.Series(myarr)\n",
    "\n",
    "mydict = dict(zip(mylist, myarr))\n",
    "ser_from_dict = pd.Series(mydict)"
   ]
  }
 ],
 "metadata": {
  "kernelspec": {
   "display_name": "Python 3 (ipykernel)",
   "language": "python",
   "name": "python3"
  },
  "language_info": {
   "codemirror_mode": {
    "name": "ipython",
    "version": 3
   },
   "file_extension": ".py",
   "mimetype": "text/x-python",
   "name": "python",
   "nbconvert_exporter": "python",
   "pygments_lexer": "ipython3",
   "version": "3.11.5"
  }
 },
 "nbformat": 4,
 "nbformat_minor": 5
}
